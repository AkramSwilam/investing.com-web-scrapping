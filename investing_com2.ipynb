{
  "nbformat": 4,
  "nbformat_minor": 0,
  "metadata": {
    "colab": {
      "provenance": []
    },
    "kernelspec": {
      "name": "python3",
      "display_name": "Python 3"
    },
    "language_info": {
      "name": "python"
    }
  },
  "cells": [
    {
      "cell_type": "code",
      "execution_count": null,
      "metadata": {
        "id": "wiZvVsJI3Cgx"
      },
      "outputs": [],
      "source": [
        "import requests\n",
        "from bs4 import BeautifulSoup"
      ]
    },
    {
      "cell_type": "code",
      "source": [
        "company=\"ezz-steel\"\n",
        "url=\"https://in.investing.com/equities/{}-technical?timeFrame=86400\".format(company)\n",
        "url"
      ],
      "metadata": {
        "colab": {
          "base_uri": "https://localhost:8080/",
          "height": 36
        },
        "id": "1Ml6rmsK3Liw",
        "outputId": "bba94ef6-e343-4bf9-d2bd-126f530820a2"
      },
      "execution_count": null,
      "outputs": [
        {
          "output_type": "execute_result",
          "data": {
            "text/plain": [
              "'https://in.investing.com/equities/ezz-steel-technical?timeFrame=86400'"
            ],
            "application/vnd.google.colaboratory.intrinsic+json": {
              "type": "string"
            }
          },
          "metadata": {},
          "execution_count": 31
        }
      ]
    },
    {
      "cell_type": "code",
      "source": [
        "response=requests.get(url)\n",
        "if response.status_code==200:\n",
        "  soup=BeautifulSoup(response.content,'html.parser')"
      ],
      "metadata": {
        "id": "8QsQZbHQ3kc6"
      },
      "execution_count": null,
      "outputs": []
    },
    {
      "cell_type": "code",
      "source": [
        "tables=soup.find_all('table',attrs={'class':'common-table medium js-table'})\n",
        "tables"
      ],
      "metadata": {
        "id": "5_ONTfpK4KDR"
      },
      "execution_count": null,
      "outputs": []
    },
    {
      "cell_type": "code",
      "source": [
        "all_symbols=[]\n",
        "for table in tables:\n",
        "    symbols = []\n",
        "    for td in table.find_all('td', class_='col-title'):\n",
        "        span = td.find('span', attrs={'class':'text'})\n",
        "        symbols.append(span.text)\n",
        "    all_symbols.append(symbols)\n",
        "all_symbols"
      ],
      "metadata": {
        "id": "l783xc4VCzly"
      },
      "execution_count": null,
      "outputs": []
    },
    {
      "cell_type": "code",
      "source": [
        "t=all_symbols[3]\n",
        "t"
      ],
      "metadata": {
        "colab": {
          "base_uri": "https://localhost:8080/"
        },
        "id": "ThyWc6vv4iF5",
        "outputId": "7ad6b393-3743-4947-e74b-a78e9646c197"
      },
      "execution_count": null,
      "outputs": [
        {
          "output_type": "execute_result",
          "data": {
            "text/plain": [
              "['MACD(12,26)', 'ADX(14)', 'Bull/Bear Power(13)']"
            ]
          },
          "metadata": {},
          "execution_count": 64
        }
      ]
    },
    {
      "cell_type": "code",
      "source": [
        "Momentum_Oscillators=[]\n",
        "data=tables[2]\n",
        "for td in data.find_all('td',class_='col-amount u-txt-align-end'):\n",
        "  span=td.find('span',attrs={'class':'text'})\n",
        "  Momentum_Oscillators.append(span.text)\n",
        "Momentum_Oscillators"
      ],
      "metadata": {
        "colab": {
          "base_uri": "https://localhost:8080/"
        },
        "id": "nzMCdk9j5fZ1",
        "outputId": "37aeb923-4db9-41d5-d929-ab49d024417d"
      },
      "execution_count": null,
      "outputs": [
        {
          "output_type": "execute_result",
          "data": {
            "text/plain": [
              "['63.104', '57.461', '2.980', '-43.763', '20.6054', '22.529', '45.056']"
            ]
          },
          "metadata": {},
          "execution_count": 52
        }
      ]
    },
    {
      "cell_type": "code",
      "source": [
        "Momentum_Oscillators_Actions=[]\n",
        "data=tables[2]\n",
        "for td in data.find_all('td',class_='col-sentiment'):\n",
        "  span=td.find('span',attrs={'class':'text'})\n",
        "  Momentum_Oscillators_Actions.append(span.text)\n",
        "Momentum_Oscillators_Actions"
      ],
      "metadata": {
        "colab": {
          "base_uri": "https://localhost:8080/"
        },
        "id": "e6OfuzfdMQEO",
        "outputId": "ad57de69-8ecf-42a5-eaa7-0751a64c460b"
      },
      "execution_count": null,
      "outputs": [
        {
          "output_type": "execute_result",
          "data": {
            "text/plain": [
              "['Buy', 'Buy', 'Overbought', 'Buy', 'Neutral', 'Buy', 'Sell']"
            ]
          },
          "metadata": {},
          "execution_count": 68
        }
      ]
    },
    {
      "cell_type": "code",
      "source": [
        "Moving_Averages_Simple=[]\n",
        "data=tables[1]\n",
        "for td in data.find_all('td',class_='col-simple'):\n",
        "  span=td.find('span',attrs={'class':'amount'})\n",
        "  Moving_Averages_Simple.append(span.text)\n",
        "Moving_Averages_Simple\n",
        "\n"
      ],
      "metadata": {
        "colab": {
          "base_uri": "https://localhost:8080/"
        },
        "id": "_bsOylUgI6vw",
        "outputId": "2cefb2a5-fe2b-441d-833d-9131408f4eb1"
      },
      "execution_count": null,
      "outputs": [
        {
          "output_type": "execute_result",
          "data": {
            "text/plain": [
              "['75.47', '76.25', '67.51', '57.55', '48.74', '40.54']"
            ]
          },
          "metadata": {},
          "execution_count": 59
        }
      ]
    },
    {
      "cell_type": "code",
      "source": [
        "Moving_Averages_Simple_Actions=[]\n",
        "for td in data.find_all('td',class_='col-simple'):\n",
        "  span=td.find('span',attrs={'class':'text'})\n",
        "  Moving_Averages_Simple_Actions.append(span.text)\n",
        "Moving_Averages_Simple_Actions"
      ],
      "metadata": {
        "colab": {
          "base_uri": "https://localhost:8080/"
        },
        "id": "Wts2HZgFLyex",
        "outputId": "663701b9-7110-4864-ec0e-6390cc445081"
      },
      "execution_count": null,
      "outputs": [
        {
          "output_type": "execute_result",
          "data": {
            "text/plain": [
              "['Sell', 'Sell', 'Buy', 'Buy', 'Buy', 'Buy']"
            ]
          },
          "metadata": {},
          "execution_count": 60
        }
      ]
    },
    {
      "cell_type": "code",
      "source": [
        "Moving_Averages_Exponential=[]\n",
        "for td in data.find_all('td',class_='col-exponential'):\n",
        "  span=td.find('span',attrs={'class':'amount'})\n",
        "  Moving_Averages_Exponential.append(span.text)\n",
        "Moving_Averages_Exponential"
      ],
      "metadata": {
        "colab": {
          "base_uri": "https://localhost:8080/"
        },
        "id": "X1HRBefTJ3A1",
        "outputId": "a8dc4d5e-f484-4515-c883-49923e1c6084"
      },
      "execution_count": null,
      "outputs": [
        {
          "output_type": "execute_result",
          "data": {
            "text/plain": [
              "['74.75', '73.30', '69.00', '59.68', '51.92', '42.72']"
            ]
          },
          "metadata": {},
          "execution_count": 58
        }
      ]
    },
    {
      "cell_type": "code",
      "source": [
        "Moving_Averages_Simple_Exponential=[]\n",
        "for td in data.find_all('td',class_='col-exponential'):\n",
        "  span=td.find('span',attrs={'class':'text'})\n",
        "  Moving_Averages_Simple_Exponential.append(span.text)\n",
        "Moving_Averages_Simple_Exponential"
      ],
      "metadata": {
        "colab": {
          "base_uri": "https://localhost:8080/"
        },
        "id": "3HqgqDy0L4lO",
        "outputId": "3274cd91-8747-4d8d-a783-0a13dd67f0ed"
      },
      "execution_count": null,
      "outputs": [
        {
          "output_type": "execute_result",
          "data": {
            "text/plain": [
              "['Sell', 'Sell', 'Buy', 'Buy', 'Buy', 'Buy']"
            ]
          },
          "metadata": {},
          "execution_count": 61
        }
      ]
    },
    {
      "cell_type": "code",
      "source": [
        "Trend_Oscillators=[]\n",
        "data=tables[3]\n",
        "for td in data.find_all('td',class_='col-amount u-txt-align-end'):\n",
        "  span=td.find('span',attrs={'class':'text'})\n",
        "  Trend_Oscillators.append(span.text)\n",
        "Trend_Oscillators"
      ],
      "metadata": {
        "colab": {
          "base_uri": "https://localhost:8080/"
        },
        "id": "R_cNaOdpM3HA",
        "outputId": "0f75524f-728e-4e9d-f9e5-55786e767d20"
      },
      "execution_count": null,
      "outputs": [
        {
          "output_type": "execute_result",
          "data": {
            "text/plain": [
              "['5.660', '47.916', '3.7740']"
            ]
          },
          "metadata": {},
          "execution_count": 65
        }
      ]
    },
    {
      "cell_type": "code",
      "source": [
        "Trend_Oscillators_Actions=[]\n",
        "data=tables[3]\n",
        "for td in data.find_all('td',class_='col-sentiment'):\n",
        "  span=td.find('span',attrs={'class':'text'})\n",
        "  Trend_Oscillators_Actions.append(span.text)\n",
        "Trend_Oscillators_Actions"
      ],
      "metadata": {
        "colab": {
          "base_uri": "https://localhost:8080/"
        },
        "id": "5sw3wq4vM5gs",
        "outputId": "4bafc7b1-ba13-4ad7-cab5-6298c223325d"
      },
      "execution_count": null,
      "outputs": [
        {
          "output_type": "execute_result",
          "data": {
            "text/plain": [
              "['Buy', 'Sell', 'Buy']"
            ]
          },
          "metadata": {},
          "execution_count": 67
        }
      ]
    },
    {
      "cell_type": "code",
      "source": [
        "Volatility=[]\n",
        "data=tables[4]\n",
        "for td in data.find_all('td',class_='col-amount u-txt-align-end'):\n",
        "  span=td.find('span',attrs={'class':'text'})\n",
        "  Volatility.append(span.text)\n",
        "Volatility"
      ],
      "metadata": {
        "colab": {
          "base_uri": "https://localhost:8080/"
        },
        "id": "DH8PABsCNXSu",
        "outputId": "c70f8936-d43e-45bd-a2e2-79d46471b1c5"
      },
      "execution_count": null,
      "outputs": [
        {
          "output_type": "execute_result",
          "data": {
            "text/plain": [
              "['4.9250', '0.0000']"
            ]
          },
          "metadata": {},
          "execution_count": 70
        }
      ]
    },
    {
      "cell_type": "code",
      "source": [
        "Volatility_Actions=[]\n",
        "data=tables[4]\n",
        "for td in data.find_all('td',class_='col-sentiment'):\n",
        "  span=td.find('span',attrs={'class':'text'})\n",
        "  Volatility_Actions.append(span.text)\n",
        "Volatility_Actions"
      ],
      "metadata": {
        "colab": {
          "base_uri": "https://localhost:8080/"
        },
        "id": "tezakvclNYaC",
        "outputId": "3d41ae5d-8e46-4760-d8be-55665dc8d7bd"
      },
      "execution_count": null,
      "outputs": [
        {
          "output_type": "execute_result",
          "data": {
            "text/plain": [
              "['High Volatility', 'Neutral']"
            ]
          },
          "metadata": {},
          "execution_count": 71
        }
      ]
    }
  ]
}