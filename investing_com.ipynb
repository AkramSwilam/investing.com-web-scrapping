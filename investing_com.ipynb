{
  "cells": [
    {
      "cell_type": "code",
      "execution_count": null,
      "metadata": {
        "colab": {
          "base_uri": "https://localhost:8080/"
        },
        "id": "cPumQVJy_pGD",
        "outputId": "4e69a97e-9a43-46fd-a5a5-df85c6947c93"
      },
      "outputs": [
        {
          "name": "stdout",
          "output_type": "stream",
          "text": [
            "https://in.investing.com/equities/abu-dhabi-islamic-bank-egypt-historical-data?end_date=1697760000&st_date=1199145600\n"
          ]
        }
      ],
      "source": [
        "from datetime import datetime, timedelta, date\n",
        "import time\n",
        "\n",
        "\n",
        "# Calculate the end date (today).\n",
        "end_date = time.mktime(date.today().timetuple())\n",
        "end_date = int(end_date)\n",
        "\n",
        "# Calculate the start date (15 years ago)\n",
        "start_date = date.today() - timedelta(days=15 * 365)\n",
        "start_date = start_date.replace(month=1, day=1)\n",
        "start_date = time.mktime(start_date.timetuple())\n",
        "start_date = int(start_date)\n",
        "company='abu-dhabi-islamic-bank-egypt'\n",
        "\n",
        "# Create the URL using the calculated dates\n",
        "url = \"https://in.investing.com/equities/{}-historical-data?end_date={}&st_date={}\".format(company,end_date, start_date)\n",
        "print(url)\n",
        "#This code calculates the end date as today and the start date as 15 years ago from today. It then formats the dates and constructs the URL in the same way as your existing code.\n",
        "\n",
        "\n",
        "\n"
      ]
    },
    {
      "cell_type": "code",
      "execution_count": null,
      "metadata": {
        "id": "wzilZPu-BR-_"
      },
      "outputs": [],
      "source": [
        "import requests\n",
        "from bs4 import BeautifulSoup"
      ]
    },
    {
      "cell_type": "code",
      "execution_count": null,
      "metadata": {
        "id": "Zd6BLzG_B0Yg"
      },
      "outputs": [],
      "source": [
        "response = requests.get(url)\n",
        "\n",
        "# Check if the request was successful\n",
        "if response.status_code == 200:\n",
        "    # Parse the HTML content of the page\n",
        "    soup = BeautifulSoup(response.content, 'html.parser')"
      ]
    },
    {
      "cell_type": "code",
      "execution_count": null,
      "metadata": {
        "id": "FbRE7uhXCBhE"
      },
      "outputs": [],
      "source": [
        "date=[]\n",
        "for a in soup.findAll('td', attrs={'class':'col-rowDate'}):\n",
        "    date_txt=a.find('span', attrs={'class':'text'})\n",
        "    date.append(date_txt.text)"
      ]
    },
    {
      "cell_type": "code",
      "execution_count": null,
      "metadata": {
        "id": "gb5DIAdlCLSm"
      },
      "outputs": [],
      "source": [
        "close=[]\n",
        "for a in soup.findAll('td', attrs={'class':'col-last_close'}):\n",
        "    close_txt=a.find('span', attrs={'class':'text'})\n",
        "    close.append(close_txt.text)"
      ]
    },
    {
      "cell_type": "code",
      "execution_count": null,
      "metadata": {
        "id": "2LFCr7AsCOtT"
      },
      "outputs": [],
      "source": [
        "open=[]\n",
        "for a in soup.findAll('td', attrs={'class':'col-last_open'}):\n",
        "    open_txt=a.find('span', attrs={'class':'text'})\n",
        "    open.append(open_txt.text)"
      ]
    },
    {
      "cell_type": "code",
      "execution_count": null,
      "metadata": {
        "id": "fewskR_mCSpY"
      },
      "outputs": [],
      "source": [
        "high=[]\n",
        "for a in soup.findAll('td', attrs={'class':'col-last_max'}):\n",
        "    high_txt=a.find('span', attrs={'class':'text'})\n",
        "    high.append(high_txt.text)"
      ]
    },
    {
      "cell_type": "code",
      "execution_count": null,
      "metadata": {
        "id": "gbjIvhP-CW3R"
      },
      "outputs": [],
      "source": [
        "low=[]\n",
        "for a in soup.findAll('td', attrs={'class':'col-last_min'}):\n",
        "    low_txt=a.find('span', attrs={'class':'text'})\n",
        "    low.append(low_txt.text)"
      ]
    },
    {
      "cell_type": "code",
      "execution_count": null,
      "metadata": {
        "id": "cR3Jeh0dHi9i"
      },
      "outputs": [],
      "source": [
        "volume=[]\n",
        "for a in soup.findAll('td', attrs={'class':'col-volume'}):\n",
        "    volume_txt=a.find('span', attrs={'class':'text'})\n",
        "    volume.append(volume_txt.text)"
      ]
    },
    {
      "cell_type": "code",
      "execution_count": null,
      "metadata": {
        "colab": {
          "base_uri": "https://localhost:8080/",
          "height": 206
        },
        "id": "T9e4ZKyzCaSc",
        "outputId": "e0a646c9-1c5f-4ac9-cfc0-4e9c03c94bb6"
      },
      "outputs": [
        {
          "data": {
            "text/html": [
              "\n",
              "  <div id=\"df-eaf19425-f0b0-42a2-85f6-e97544e9c674\" class=\"colab-df-container\">\n",
              "    <div>\n",
              "<style scoped>\n",
              "    .dataframe tbody tr th:only-of-type {\n",
              "        vertical-align: middle;\n",
              "    }\n",
              "\n",
              "    .dataframe tbody tr th {\n",
              "        vertical-align: top;\n",
              "    }\n",
              "\n",
              "    .dataframe thead th {\n",
              "        text-align: right;\n",
              "    }\n",
              "</style>\n",
              "<table border=\"1\" class=\"dataframe\">\n",
              "  <thead>\n",
              "    <tr style=\"text-align: right;\">\n",
              "      <th></th>\n",
              "      <th>Date</th>\n",
              "      <th>Close</th>\n",
              "      <th>Open</th>\n",
              "      <th>High</th>\n",
              "      <th>Low</th>\n",
              "      <th>Volume</th>\n",
              "    </tr>\n",
              "  </thead>\n",
              "  <tbody>\n",
              "    <tr>\n",
              "      <th>0</th>\n",
              "      <td>Oct 19, 2023</td>\n",
              "      <td>31.50</td>\n",
              "      <td>32.99</td>\n",
              "      <td>32.99</td>\n",
              "      <td>31.07</td>\n",
              "      <td>1.02M</td>\n",
              "    </tr>\n",
              "    <tr>\n",
              "      <th>1</th>\n",
              "      <td>Oct 18, 2023</td>\n",
              "      <td>33.00</td>\n",
              "      <td>33.20</td>\n",
              "      <td>34.00</td>\n",
              "      <td>30.30</td>\n",
              "      <td>2.08M</td>\n",
              "    </tr>\n",
              "    <tr>\n",
              "      <th>2</th>\n",
              "      <td>Oct 17, 2023</td>\n",
              "      <td>33.00</td>\n",
              "      <td>29.90</td>\n",
              "      <td>34.00</td>\n",
              "      <td>29.75</td>\n",
              "      <td>2.58M</td>\n",
              "    </tr>\n",
              "    <tr>\n",
              "      <th>3</th>\n",
              "      <td>Oct 16, 2023</td>\n",
              "      <td>30.00</td>\n",
              "      <td>28.67</td>\n",
              "      <td>30.20</td>\n",
              "      <td>28.50</td>\n",
              "      <td>618.11K</td>\n",
              "    </tr>\n",
              "    <tr>\n",
              "      <th>4</th>\n",
              "      <td>Oct 15, 2023</td>\n",
              "      <td>28.50</td>\n",
              "      <td>28.50</td>\n",
              "      <td>29.80</td>\n",
              "      <td>28.25</td>\n",
              "      <td>1.26M</td>\n",
              "    </tr>\n",
              "  </tbody>\n",
              "</table>\n",
              "</div>\n",
              "    <div class=\"colab-df-buttons\">\n",
              "\n",
              "  <div class=\"colab-df-container\">\n",
              "    <button class=\"colab-df-convert\" onclick=\"convertToInteractive('df-eaf19425-f0b0-42a2-85f6-e97544e9c674')\"\n",
              "            title=\"Convert this dataframe to an interactive table.\"\n",
              "            style=\"display:none;\">\n",
              "\n",
              "  <svg xmlns=\"http://www.w3.org/2000/svg\" height=\"24px\" viewBox=\"0 -960 960 960\">\n",
              "    <path d=\"M120-120v-720h720v720H120Zm60-500h600v-160H180v160Zm220 220h160v-160H400v160Zm0 220h160v-160H400v160ZM180-400h160v-160H180v160Zm440 0h160v-160H620v160ZM180-180h160v-160H180v160Zm440 0h160v-160H620v160Z\"/>\n",
              "  </svg>\n",
              "    </button>\n",
              "\n",
              "  <style>\n",
              "    .colab-df-container {\n",
              "      display:flex;\n",
              "      gap: 12px;\n",
              "    }\n",
              "\n",
              "    .colab-df-convert {\n",
              "      background-color: #E8F0FE;\n",
              "      border: none;\n",
              "      border-radius: 50%;\n",
              "      cursor: pointer;\n",
              "      display: none;\n",
              "      fill: #1967D2;\n",
              "      height: 32px;\n",
              "      padding: 0 0 0 0;\n",
              "      width: 32px;\n",
              "    }\n",
              "\n",
              "    .colab-df-convert:hover {\n",
              "      background-color: #E2EBFA;\n",
              "      box-shadow: 0px 1px 2px rgba(60, 64, 67, 0.3), 0px 1px 3px 1px rgba(60, 64, 67, 0.15);\n",
              "      fill: #174EA6;\n",
              "    }\n",
              "\n",
              "    .colab-df-buttons div {\n",
              "      margin-bottom: 4px;\n",
              "    }\n",
              "\n",
              "    [theme=dark] .colab-df-convert {\n",
              "      background-color: #3B4455;\n",
              "      fill: #D2E3FC;\n",
              "    }\n",
              "\n",
              "    [theme=dark] .colab-df-convert:hover {\n",
              "      background-color: #434B5C;\n",
              "      box-shadow: 0px 1px 3px 1px rgba(0, 0, 0, 0.15);\n",
              "      filter: drop-shadow(0px 1px 2px rgba(0, 0, 0, 0.3));\n",
              "      fill: #FFFFFF;\n",
              "    }\n",
              "  </style>\n",
              "\n",
              "    <script>\n",
              "      const buttonEl =\n",
              "        document.querySelector('#df-eaf19425-f0b0-42a2-85f6-e97544e9c674 button.colab-df-convert');\n",
              "      buttonEl.style.display =\n",
              "        google.colab.kernel.accessAllowed ? 'block' : 'none';\n",
              "\n",
              "      async function convertToInteractive(key) {\n",
              "        const element = document.querySelector('#df-eaf19425-f0b0-42a2-85f6-e97544e9c674');\n",
              "        const dataTable =\n",
              "          await google.colab.kernel.invokeFunction('convertToInteractive',\n",
              "                                                    [key], {});\n",
              "        if (!dataTable) return;\n",
              "\n",
              "        const docLinkHtml = 'Like what you see? Visit the ' +\n",
              "          '<a target=\"_blank\" href=https://colab.research.google.com/notebooks/data_table.ipynb>data table notebook</a>'\n",
              "          + ' to learn more about interactive tables.';\n",
              "        element.innerHTML = '';\n",
              "        dataTable['output_type'] = 'display_data';\n",
              "        await google.colab.output.renderOutput(dataTable, element);\n",
              "        const docLink = document.createElement('div');\n",
              "        docLink.innerHTML = docLinkHtml;\n",
              "        element.appendChild(docLink);\n",
              "      }\n",
              "    </script>\n",
              "  </div>\n",
              "\n",
              "\n",
              "<div id=\"df-c695e96c-8d3f-4f3b-8c1e-7689561a9aba\">\n",
              "  <button class=\"colab-df-quickchart\" onclick=\"quickchart('df-c695e96c-8d3f-4f3b-8c1e-7689561a9aba')\"\n",
              "            title=\"Suggest charts.\"\n",
              "            style=\"display:none;\">\n",
              "\n",
              "<svg xmlns=\"http://www.w3.org/2000/svg\" height=\"24px\"viewBox=\"0 0 24 24\"\n",
              "     width=\"24px\">\n",
              "    <g>\n",
              "        <path d=\"M19 3H5c-1.1 0-2 .9-2 2v14c0 1.1.9 2 2 2h14c1.1 0 2-.9 2-2V5c0-1.1-.9-2-2-2zM9 17H7v-7h2v7zm4 0h-2V7h2v10zm4 0h-2v-4h2v4z\"/>\n",
              "    </g>\n",
              "</svg>\n",
              "  </button>\n",
              "\n",
              "<style>\n",
              "  .colab-df-quickchart {\n",
              "      --bg-color: #E8F0FE;\n",
              "      --fill-color: #1967D2;\n",
              "      --hover-bg-color: #E2EBFA;\n",
              "      --hover-fill-color: #174EA6;\n",
              "      --disabled-fill-color: #AAA;\n",
              "      --disabled-bg-color: #DDD;\n",
              "  }\n",
              "\n",
              "  [theme=dark] .colab-df-quickchart {\n",
              "      --bg-color: #3B4455;\n",
              "      --fill-color: #D2E3FC;\n",
              "      --hover-bg-color: #434B5C;\n",
              "      --hover-fill-color: #FFFFFF;\n",
              "      --disabled-bg-color: #3B4455;\n",
              "      --disabled-fill-color: #666;\n",
              "  }\n",
              "\n",
              "  .colab-df-quickchart {\n",
              "    background-color: var(--bg-color);\n",
              "    border: none;\n",
              "    border-radius: 50%;\n",
              "    cursor: pointer;\n",
              "    display: none;\n",
              "    fill: var(--fill-color);\n",
              "    height: 32px;\n",
              "    padding: 0;\n",
              "    width: 32px;\n",
              "  }\n",
              "\n",
              "  .colab-df-quickchart:hover {\n",
              "    background-color: var(--hover-bg-color);\n",
              "    box-shadow: 0 1px 2px rgba(60, 64, 67, 0.3), 0 1px 3px 1px rgba(60, 64, 67, 0.15);\n",
              "    fill: var(--button-hover-fill-color);\n",
              "  }\n",
              "\n",
              "  .colab-df-quickchart-complete:disabled,\n",
              "  .colab-df-quickchart-complete:disabled:hover {\n",
              "    background-color: var(--disabled-bg-color);\n",
              "    fill: var(--disabled-fill-color);\n",
              "    box-shadow: none;\n",
              "  }\n",
              "\n",
              "  .colab-df-spinner {\n",
              "    border: 2px solid var(--fill-color);\n",
              "    border-color: transparent;\n",
              "    border-bottom-color: var(--fill-color);\n",
              "    animation:\n",
              "      spin 1s steps(1) infinite;\n",
              "  }\n",
              "\n",
              "  @keyframes spin {\n",
              "    0% {\n",
              "      border-color: transparent;\n",
              "      border-bottom-color: var(--fill-color);\n",
              "      border-left-color: var(--fill-color);\n",
              "    }\n",
              "    20% {\n",
              "      border-color: transparent;\n",
              "      border-left-color: var(--fill-color);\n",
              "      border-top-color: var(--fill-color);\n",
              "    }\n",
              "    30% {\n",
              "      border-color: transparent;\n",
              "      border-left-color: var(--fill-color);\n",
              "      border-top-color: var(--fill-color);\n",
              "      border-right-color: var(--fill-color);\n",
              "    }\n",
              "    40% {\n",
              "      border-color: transparent;\n",
              "      border-right-color: var(--fill-color);\n",
              "      border-top-color: var(--fill-color);\n",
              "    }\n",
              "    60% {\n",
              "      border-color: transparent;\n",
              "      border-right-color: var(--fill-color);\n",
              "    }\n",
              "    80% {\n",
              "      border-color: transparent;\n",
              "      border-right-color: var(--fill-color);\n",
              "      border-bottom-color: var(--fill-color);\n",
              "    }\n",
              "    90% {\n",
              "      border-color: transparent;\n",
              "      border-bottom-color: var(--fill-color);\n",
              "    }\n",
              "  }\n",
              "</style>\n",
              "\n",
              "  <script>\n",
              "    async function quickchart(key) {\n",
              "      const quickchartButtonEl =\n",
              "        document.querySelector('#' + key + ' button');\n",
              "      quickchartButtonEl.disabled = true;  // To prevent multiple clicks.\n",
              "      quickchartButtonEl.classList.add('colab-df-spinner');\n",
              "      try {\n",
              "        const charts = await google.colab.kernel.invokeFunction(\n",
              "            'suggestCharts', [key], {});\n",
              "      } catch (error) {\n",
              "        console.error('Error during call to suggestCharts:', error);\n",
              "      }\n",
              "      quickchartButtonEl.classList.remove('colab-df-spinner');\n",
              "      quickchartButtonEl.classList.add('colab-df-quickchart-complete');\n",
              "    }\n",
              "    (() => {\n",
              "      let quickchartButtonEl =\n",
              "        document.querySelector('#df-c695e96c-8d3f-4f3b-8c1e-7689561a9aba button');\n",
              "      quickchartButtonEl.style.display =\n",
              "        google.colab.kernel.accessAllowed ? 'block' : 'none';\n",
              "    })();\n",
              "  </script>\n",
              "</div>\n",
              "    </div>\n",
              "  </div>\n"
            ],
            "text/plain": [
              "           Date  Close   Open   High    Low   Volume\n",
              "0  Oct 19, 2023  31.50  32.99  32.99  31.07    1.02M\n",
              "1  Oct 18, 2023  33.00  33.20  34.00  30.30    2.08M\n",
              "2  Oct 17, 2023  33.00  29.90  34.00  29.75    2.58M\n",
              "3  Oct 16, 2023  30.00  28.67  30.20  28.50  618.11K\n",
              "4  Oct 15, 2023  28.50  28.50  29.80  28.25    1.26M"
            ]
          },
          "execution_count": 12,
          "metadata": {},
          "output_type": "execute_result"
        }
      ],
      "source": [
        "import pandas as pd\n",
        "df_data = {'Date':date,'Close':close,'Open':open,'High':high,'Low':low,'Volume':volume}\n",
        "df = pd.DataFrame.from_dict(df_data, orient='index')\n",
        "df = df.transpose()\n",
        "df.head()"
      ]
    },
    {
      "cell_type": "code",
      "execution_count": null,
      "metadata": {
        "id": "jHvprEzKFihN"
      },
      "outputs": [],
      "source": [
        "data=df\n",
        "data['Close']=data['Close'].str.replace(r\",\",\"\").astype('float')\n",
        "data['Open']=data['Open'].str.replace(r\",\",\"\").astype('float')\n",
        "data['High']=data['High'].str.replace(r\",\",\"\").astype('float')\n",
        "data['Low']=data['Low'].str.replace(r\",\",\"\").astype('float')"
      ]
    },
    {
      "cell_type": "code",
      "execution_count": null,
      "metadata": {
        "id": "NYzlY2zUGWhN"
      },
      "outputs": [],
      "source": [
        "data['Date'] = data['Date'].str.replace(r\",\",\"\")\n",
        "\n",
        "data['Date']=pd.to_datetime(data.Date , format = '%b %d %Y')"
      ]
    },
    {
      "cell_type": "code",
      "execution_count": null,
      "metadata": {
        "id": "VxW2jfFOGgjC"
      },
      "outputs": [],
      "source": [
        "data.to_csv(\"{}.csv\".format(company),index=False)"
      ]
    }
  ],
  "metadata": {
    "colab": {
      "provenance": []
    },
    "kernelspec": {
      "display_name": "Python 3",
      "name": "python3"
    },
    "language_info": {
      "name": "python"
    }
  },
  "nbformat": 4,
  "nbformat_minor": 0
}
